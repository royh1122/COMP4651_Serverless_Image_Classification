{
 "cells": [
  {
   "cell_type": "code",
   "execution_count": 1,
   "metadata": {},
   "outputs": [],
   "source": [
    "import requests\n",
    "\n",
    "# Set your OpenFaaS function URL\n",
    "url = \"http://127.0.0.1:8080/function/image-classify\"#\"http://127.0.0.1:8080/function/flask-test\"\n",
    "\n",
    "# Test input files\n",
    "test_cases = {\n",
    "    \"valid_image\": \"dog.jpg\",  # Replace with a valid image path\n",
    "    #\"corrupted_image\": \"corrupted.jpg\",  # Replace with a corrupted image path\n",
    "    #\"unsupported_file\": \"unsupported.txt\",  # Replace with a text file path\n",
    "    #\"empty_file\": None,  # Test empty request\n",
    "}"
   ]
  },
  {
   "cell_type": "code",
   "execution_count": 2,
   "metadata": {},
   "outputs": [],
   "source": [
    "# Function to send POST request\n",
    "def test_input(case_name, file_path):\n",
    "    try:\n",
    "        print(f\"Testing case: {case_name}\")\n",
    "        if file_path:\n",
    "            with open(file_path, \"rb\") as f:\n",
    "                response = requests.post(url, data=f)\n",
    "        else:\n",
    "            response = requests.post(url, data=None)  # Empty request\n",
    "\n",
    "        print(f\"Response ({case_name}):\")\n",
    "        print(response.status_code)\n",
    "        print(response.text)\n",
    "        print(response)\n",
    "    except Exception as e:\n",
    "        print(f\"Error testing {case_name}: {e}\")"
   ]
  },
  {
   "cell_type": "code",
   "execution_count": 4,
   "metadata": {},
   "outputs": [
    {
     "name": "stdout",
     "output_type": "stream",
     "text": [
      "Testing case: valid_image\n",
      "Response (valid_image):\n",
      "200\n",
      "[{\"label\": \"n02099601\", \"description\": \"golden_retriever\", \"probability\": 0.7855193018913269}, {\"label\": \"n02104029\", \"description\": \"kuvasz\", \"probability\": 0.047932617366313934}, {\"label\": \"n02091635\", \"description\": \"otterhound\", \"probability\": 0.032256513833999634}]\n",
      "<Response [200]>\n"
     ]
    }
   ],
   "source": [
    "\n",
    "# Run tests for all cases\n",
    "for case_name, file_path in test_cases.items():\n",
    "    test_input(case_name, file_path)\n"
   ]
  }
 ],
 "metadata": {
  "kernelspec": {
   "display_name": "COMP4651",
   "language": "python",
   "name": "python3"
  },
  "language_info": {
   "codemirror_mode": {
    "name": "ipython",
    "version": 3
   },
   "file_extension": ".py",
   "mimetype": "text/x-python",
   "name": "python",
   "nbconvert_exporter": "python",
   "pygments_lexer": "ipython3",
   "version": "3.10.15"
  }
 },
 "nbformat": 4,
 "nbformat_minor": 2
}
