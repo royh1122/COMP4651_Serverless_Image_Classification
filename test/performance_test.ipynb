{
 "cells": [
  {
   "cell_type": "code",
   "execution_count": null,
   "metadata": {},
   "outputs": [],
   "source": [
    "import requests\n",
    "import time\n",
    "from tqdm import tqdm"
   ]
  },
  {
   "cell_type": "code",
   "execution_count": null,
   "metadata": {},
   "outputs": [],
   "source": [
    "# Test configurations\n",
    "SERVERLESS_URL = \"https://<ngrok-forwarding-url>/function/image-classify\" # Replace with your own ngrok forwarding URL\n",
    "SERVER_URL = \"https://<ngrok-forwarding-url>/predict\" # Replace with your own ngrok forwarding URL\n",
    "IMAGE_PATH = \"./images/dog.jpg\"\n",
    "NUM_REQUESTS = 150\n",
    "DURATION = 120  # seconds"
   ]
  },
  {
   "cell_type": "code",
   "execution_count": null,
   "metadata": {},
   "outputs": [],
   "source": [
    "def test_latency(api_url):\n",
    "    \"\"\"Measure the latency of the API by sending multiple sequential requests and recording the response times.\"\"\"\n",
    "    latencies = []\n",
    "    for _ in tqdm(range(NUM_REQUESTS), desc=\"Testing latency\"):\n",
    "        with open(IMAGE_PATH, 'rb') as img:\n",
    "            start = time.time()\n",
    "            response = requests.post(api_url, data=img)\n",
    "            end = time.time()\n",
    "            latencies.append(end - start)\n",
    "\n",
    "    avg_latency = sum(latencies) / len(latencies)\n",
    "    print(f\"Average latency: {avg_latency:.4f} seconds\")\n",
    "    return latencies"
   ]
  },
  {
   "cell_type": "code",
   "execution_count": null,
   "metadata": {},
   "outputs": [],
   "source": [
    "def test_throughput(api_url):\n",
    "    \"\"\"Test throughput by sending as many requests as possible within a given duration.\"\"\"\n",
    "    with open(IMAGE_PATH, 'rb') as img_file:\n",
    "        img_data = img_file.read()\n",
    "\n",
    "    request_count = 0\n",
    "    start_time = time.time()\n",
    "    end_time = start_time + DURATION\n",
    "\n",
    "    with tqdm(total=DURATION, desc=\"Testing throughput\", unit='s') as pbar:\n",
    "        while time.time() < end_time:\n",
    "            response = requests.post(api_url, data=img_data)\n",
    "            if response.status_code == 200:\n",
    "                request_count += 1\n",
    "            elapsed_time = int(time.time() - start_time)\n",
    "            pbar.n = elapsed_time\n",
    "            pbar.refresh()\n",
    "        pbar.refresh()\n",
    "\n",
    "    throughput = request_count / DURATION\n",
    "    print(f\"Throughput: {throughput:.2f} requests/second\")\n",
    "    return throughput"
   ]
  },
  {
   "cell_type": "code",
   "execution_count": null,
   "metadata": {},
   "outputs": [],
   "source": [
    "# Test serverless API\n",
    "print(\"Testing serverless API...\")\n",
    "serverless_latencies = test_latency(SERVERLESS_URL)\n",
    "serverless_throughput = test_throughput(SERVERLESS_URL)"
   ]
  },
  {
   "cell_type": "code",
   "execution_count": null,
   "metadata": {},
   "outputs": [],
   "source": [
    "# Test server-based API\n",
    "print(\"Testing server-based API...\")\n",
    "server_latencies = test_latency(SERVER_URL)\n",
    "server_throughput = test_throughput(SERVER_URL)"
   ]
  }
 ],
 "metadata": {
  "kernelspec": {
   "display_name": "COMP4651",
   "language": "python",
   "name": "python3"
  },
  "language_info": {
   "codemirror_mode": {
    "name": "ipython",
    "version": 3
   },
   "file_extension": ".py",
   "mimetype": "text/x-python",
   "name": "python",
   "nbconvert_exporter": "python",
   "pygments_lexer": "ipython3",
   "version": "3.10.15"
  }
 },
 "nbformat": 4,
 "nbformat_minor": 2
}
